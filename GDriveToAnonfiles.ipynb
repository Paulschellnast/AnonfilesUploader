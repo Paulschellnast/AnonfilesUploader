{
  "cells": [
    {
      "cell_type": "markdown",
      "metadata": {
        "colab_type": "text",
        "id": "view-in-github"
      },
      "source": [
        "<a href=\"https://colab.research.google.com/github/Paulschellnast/AnonfilesUploader/blob/main/GDriveToAnonfiles.ipynb\" target=\"_parent\"><img src=\"https://colab.research.google.com/assets/colab-badge.svg\" alt=\"Open In Colab\"/></a>"
      ]
    },
    {
      "cell_type": "code",
      "execution_count": null,
      "metadata": {
        "cellView": "form",
        "colab": {
          "base_uri": "https://localhost:8080/"
        },
        "id": "tPuLCnbGFmxo",
        "outputId": "e1169fa4-c267-410a-b9a8-91e3fc0732b5"
      },
      "outputs": [],
      "source": [
        "#@markdown <br><center><img src='https://upload.wikimedia.org/wikipedia/commons/thumb/d/da/Google_Drive_logo.png/600px-Google_Drive_logo.png' height=\"50\" alt=\"Gdrive-logo\"/></center>\n",
        "#@markdown <center><h3>Mount Gdrive to /content/drive</h3></center><br>\n",
        "MODE = \"MOUNT\" #@param [\"MOUNT\", \"UNMOUNT\"]\n",
        "#Mount your Gdrive! \n",
        "from google.colab import drive\n",
        "drive.mount._DEBUG = False\n",
        "if MODE == \"MOUNT\":\n",
        "  drive.mount('/content/drive', force_remount=True)\n",
        "elif MODE == \"UNMOUNT\":\n",
        "  try:\n",
        "    drive.flush_and_unmount()\n",
        "  except ValueError:\n",
        "    pass\n",
        "  get_ipython().system_raw(\"rm -rf /root/.config/Google/DriveFS\")"
      ]
    },
    {
      "cell_type": "code",
      "execution_count": null,
      "metadata": {
        "colab": {
          "base_uri": "https://localhost:8080/"
        },
        "id": "q9_bZLlwMW8C",
        "outputId": "a3a87196-dbff-4186-8450-65387e627b66"
      },
      "outputs": [],
      "source": [
        "import random\n",
        "import requests\n",
        "\n",
        "print(\"1: Getting information from a file\\n2: Upload a file\")\n",
        "choice = input(\"Choose option: \")\n",
        "\n",
        "if choice == \"1\":\n",
        "\n",
        "    ID = input(\"Enter file ID: \")\n",
        "    random_ua = str(random.choice(list(set(requests.get(\"https://raw.githubusercontent.com/DavidWittman/requests-random-user-agent/master/requests_random_user_agent/useragents.txt\").content.decode().splitlines()))))\n",
        "    headers = {'User-Agent': random_ua, 'From': 'petersars@gmail.com'}\n",
        "    response = requests.get(f'https://api.anonfiles.com/v2/file/{ID}/info', headers=headers)\n",
        "    print(response.json())\n",
        "\n",
        "elif choice == \"2\":\n",
        "\n",
        "    filepath = input(\"Enter filepath: \")\n",
        "    response = requests.post('https://api.anonfiles.com/upload', files = {'file': open(filepath,'rb')})\n",
        "    print(\"DOWNLOAD LINK: \" + response.json()[\"data\"][\"file\"][\"url\"][\"full\"])"
      ]
    }
  ],
  "metadata": {
    "colab": {
      "authorship_tag": "ABX9TyN7NL/R5ojj9iSIT6S0cpjg",
      "include_colab_link": true,
      "name": "Untitled0.ipynb",
      "provenance": []
    },
    "kernelspec": {
      "display_name": "Python 3",
      "name": "python3"
    },
    "language_info": {
      "name": "python"
    }
  },
  "nbformat": 4,
  "nbformat_minor": 0
}
