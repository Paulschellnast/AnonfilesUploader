{
  "nbformat": 4,
  "nbformat_minor": 0,
  "metadata": {
    "colab": {
      "name": "Untitled0.ipynb",
      "provenance": [],
      "authorship_tag": "ABX9TyN7NL/R5ojj9iSIT6S0cpjg",
      "include_colab_link": true
    },
    "kernelspec": {
      "name": "python3",
      "display_name": "Python 3"
    },
    "language_info": {
      "name": "python"
    }
  },
  "cells": [
    {
      "cell_type": "markdown",
      "metadata": {
        "id": "view-in-github",
        "colab_type": "text"
      },
      "source": [
        "<a href=\"https://colab.research.google.com/github/Paulschellnast/AnonfilesUploader/blob/main/GDriveToAnonfiles.ipynb\" target=\"_parent\"><img src=\"https://colab.research.google.com/assets/colab-badge.svg\" alt=\"Open In Colab\"/></a>"
      ]
    },
    {
      "cell_type": "code",
      "metadata": {
        "id": "tPuLCnbGFmxo",
        "cellView": "form",
        "colab": {
          "base_uri": "https://localhost:8080/"
        },
        "outputId": "e1169fa4-c267-410a-b9a8-91e3fc0732b5"
      },
      "source": [
        "#@markdown <br><center><img src='https://upload.wikimedia.org/wikipedia/commons/thumb/d/da/Google_Drive_logo.png/600px-Google_Drive_logo.png' height=\"50\" alt=\"Gdrive-logo\"/></center>\n",
        "#@markdown <center><h3>Mount Gdrive to /content/drive</h3></center><br>\n",
        "MODE = \"MOUNT\" #@param [\"MOUNT\", \"UNMOUNT\"]\n",
        "#Mount your Gdrive! \n",
        "from google.colab import drive\n",
        "drive.mount._DEBUG = False\n",
        "if MODE == \"MOUNT\":\n",
        "  drive.mount('/content/drive', force_remount=True)\n",
        "elif MODE == \"UNMOUNT\":\n",
        "  try:\n",
        "    drive.flush_and_unmount()\n",
        "  except ValueError:\n",
        "    pass\n",
        "  get_ipython().system_raw(\"rm -rf /root/.config/Google/DriveFS\")"
      ],
      "execution_count": 3,
      "outputs": [
        {
          "output_type": "stream",
          "text": [
            "Mounted at /content/drive\n"
          ],
          "name": "stdout"
        }
      ]
    },
    {
      "cell_type": "code",
      "metadata": {
        "colab": {
          "base_uri": "https://localhost:8080/"
        },
        "id": "q9_bZLlwMW8C",
        "outputId": "a3a87196-dbff-4186-8450-65387e627b66"
      },
      "source": [
        "import requests\n",
        "url = 'https://api.anonfiles.com/upload'\n",
        "print(\"1: Getting information from a file\")\n",
        "print(\"2: Upload a file\")\n",
        "y = input(\"Choose option: \")\n",
        "if y == \"2\":\n",
        "    filepath = input(\"Enter filepath:\")\n",
        "    print(\"filepath is: \" + filepath)\n",
        "    x = requests.post(url, files = {'file': open(filepath,'rb')},)\n",
        "    print(\"DOWNLOAD LINK: \" + x.json()[\"data\"][\"file\"][\"url\"][\"full\"])\n",
        "if y == \"1\":\n",
        "    fileinfo = input(\"Enter file ID: \")\n",
        "    print('https://api.anonfiles.com/v2/file/'+fileinfo+'/info')\n",
        "    headers = {\n",
        "    'User-Agent': 'Mozilla/5.0 (Windows NT 10.0; Win64; x64) AppleWebKit/537.36 (KHTML, like Gecko) Brave Chrome/91.0.4472.124 Safari/537.36',\n",
        "    'From': 'petersars@gmail.com'  \n",
        "    }\n",
        "    z = requests.get('https://api.anonfiles.com/v2/file/'+fileinfo+'/info', headers=headers)\n",
        "    print(z.json())"
      ],
      "execution_count": 4,
      "outputs": [
        {
          "output_type": "stream",
          "text": [
            "1: Getting information from a file\n",
            "2: Upload a file\n",
            "Choose option: 2\n",
            "Enter filepath:/content/drive/Shareddrives/Stuff_5/Movies/Alita Battle Angel (2019)/Alita.Battle.Angel.2019.1080p.WEBRip.x264-[YTS.LT].mp4\n",
            "filepath is: /content/drive/Shareddrives/Stuff_5/Movies/Alita Battle Angel (2019)/Alita.Battle.Angel.2019.1080p.WEBRip.x264-[YTS.LT].mp4\n",
            "DOWNLOAD LINK: https://anonfiles.com/vfH5Rb43ua/Alita.Battle.Angel.2019.1080p.WEBRip.x264-_YTS.LT_mp4\n"
          ],
          "name": "stdout"
        }
      ]
    }
  ]
}